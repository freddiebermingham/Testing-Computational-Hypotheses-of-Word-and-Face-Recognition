{
  "nbformat": 4,
  "nbformat_minor": 0,
  "metadata": {
    "kernelspec": {
      "display_name": "Python 3",
      "language": "python",
      "name": "python3"
    },
    "language_info": {
      "codemirror_mode": {
        "name": "ipython",
        "version": 3
      },
      "file_extension": ".py",
      "mimetype": "text/x-python",
      "name": "python",
      "nbconvert_exporter": "python",
      "pygments_lexer": "ipython3",
      "version": "3.8.3"
    },
    "colab": {
      "name": "WORDS-3.ipynb",
      "provenance": [],
      "collapsed_sections": []
    }
  },
  "cells": [
    {
      "cell_type": "code",
      "metadata": {
        "id": "PzC09-tfiRaa",
        "colab": {
          "base_uri": "https://localhost:8080/"
        },
        "outputId": "b5648fe1-dbe0-448d-9c1a-72a50bc020e7"
      },
      "source": [
        "import torch\n",
        "import torch.nn as nn\n",
        "import torch.nn.functional as F\n",
        "from torch.utils.data import DataLoader\n",
        "from torchvision import datasets, transforms\n",
        "from torchvision.utils import make_grid\n",
        "import os\n",
        "\n",
        "import numpy as np\n",
        "import pandas as pd\n",
        "import seaborn as sn\n",
        "from sklearn.metrics import confusion_matrix\n",
        "import matplotlib.pyplot as plt\n",
        "%matplotlib inline\n",
        "\n",
        "from google.colab import drive\n",
        "drive.mount('/content/gdrive')"
      ],
      "execution_count": null,
      "outputs": [
        {
          "output_type": "stream",
          "text": [
            "Drive already mounted at /content/gdrive; to attempt to forcibly remount, call drive.mount(\"/content/gdrive\", force_remount=True).\n"
          ],
          "name": "stdout"
        }
      ]
    },
    {
      "cell_type": "code",
      "metadata": {
        "id": "b4VfrFZ1iRbE"
      },
      "source": [
        "transform = transforms.ToTensor()"
      ],
      "execution_count": null,
      "outputs": []
    },
    {
      "cell_type": "code",
      "metadata": {
        "id": "FLofk_8DiRbU",
        "colab": {
          "base_uri": "https://localhost:8080/"
        },
        "outputId": "7abb6fdd-20e6-4ab3-b98c-3834b59d19c7"
      },
      "source": [
        "train_data = datasets.ImageFolder(('/content/gdrive/MyDrive/Words/train'), transform=transform)\n",
        "test_data = datasets.ImageFolder(('/content/gdrive/MyDrive/Words/test'), transform=transform)\n",
        "\n",
        "torch.manual_seed(42)\n",
        "train_loader = DataLoader(train_data, batch_size=10, shuffle=True)\n",
        "test_loader = DataLoader(test_data, batch_size=10, shuffle=True)\n",
        "\n",
        "class_names = train_data.classes\n",
        "labels = train_data.targets\n",
        "\n",
        "print(class_names)\n",
        "print(f'Training images available: {len(train_data)}')\n",
        "print(f'Testing images available:  {len(test_data)}')"
      ],
      "execution_count": null,
      "outputs": [
        {
          "output_type": "stream",
          "text": [
            "['cash ', 'cats', 'fact', 'foot', 'heat', 'holt', 'lots', 'safe', 'soft', 'tell']\n",
            "Training images available: 4500\n",
            "Testing images available:  800\n"
          ],
          "name": "stdout"
        }
      ]
    },
    {
      "cell_type": "code",
      "metadata": {
        "id": "kvTKL-kQiRbY",
        "colab": {
          "base_uri": "https://localhost:8080/"
        },
        "outputId": "88209145-967c-43b6-d1bb-babbee51e3b1"
      },
      "source": [
        "train_data.classes"
      ],
      "execution_count": null,
      "outputs": [
        {
          "output_type": "execute_result",
          "data": {
            "text/plain": [
              "['cash ',\n",
              " 'cats',\n",
              " 'fact',\n",
              " 'foot',\n",
              " 'heat',\n",
              " 'holt',\n",
              " 'lots',\n",
              " 'safe',\n",
              " 'soft',\n",
              " 'tell']"
            ]
          },
          "metadata": {
            "tags": []
          },
          "execution_count": 4
        }
      ]
    },
    {
      "cell_type": "code",
      "metadata": {
        "id": "zyaPh41KiRba"
      },
      "source": [
        "test_classes = test_data.classes"
      ],
      "execution_count": null,
      "outputs": []
    },
    {
      "cell_type": "code",
      "metadata": {
        "id": "QZrAzNl9iRbb",
        "colab": {
          "base_uri": "https://localhost:8080/"
        },
        "outputId": "7c90a3cb-4ad4-44b2-9486-854791c6ae4d"
      },
      "source": [
        "test_classes"
      ],
      "execution_count": null,
      "outputs": [
        {
          "output_type": "execute_result",
          "data": {
            "text/plain": [
              "['cash ',\n",
              " 'cats ',\n",
              " 'fact ',\n",
              " 'foot ',\n",
              " 'heat ',\n",
              " 'holt ',\n",
              " 'lots',\n",
              " 'safe',\n",
              " 'soft ',\n",
              " 'tell ']"
            ]
          },
          "metadata": {
            "tags": []
          },
          "execution_count": 6
        }
      ]
    },
    {
      "cell_type": "code",
      "metadata": {
        "id": "pQtPlWueiRbd"
      },
      "source": [
        "torch.manual_seed(101)  \n",
        "\n",
        "train_loader = DataLoader(train_data, batch_size=10, shuffle=True)\n",
        "test_loader = DataLoader(test_data, batch_size=10, shuffle=False)"
      ],
      "execution_count": null,
      "outputs": []
    },
    {
      "cell_type": "code",
      "metadata": {
        "id": "MFuAnRvwiRbi",
        "colab": {
          "base_uri": "https://localhost:8080/",
          "height": 303
        },
        "outputId": "6400c967-6c25-4416-8203-9673ba4cc0f3"
      },
      "source": [
        "np.set_printoptions(formatter=dict(int=lambda x: f'{x:5}'))\n",
        "\n",
        "for images,labels in train_loader: \n",
        "    break\n",
        "\n",
        "print('Label:', labels.numpy())\n",
        "print('Class: ', *np.array([class_names[i] for i in labels]))\n",
        "\n",
        "\n",
        "im = make_grid(images, nrow=5) \n",
        "plt.figure(figsize=(10,4))\n",
        "plt.imshow(np.transpose(im.numpy(), (1, 2, 0)));"
      ],
      "execution_count": null,
      "outputs": [
        {
          "output_type": "stream",
          "text": [
            "Label: [    6     9     4     9     1     5     9     3     0     6]\n",
            "Class:  lots tell heat tell cats holt tell foot cash  lots\n"
          ],
          "name": "stdout"
        },
        {
          "output_type": "display_data",
          "data": {
            "image/png": "[encoded data removed]",
            "text/plain": [
              "<Figure size 720x288 with 1 Axes>"
            ]
          },
          "metadata": {
            "tags": [],
            "needs_background": "light"
          }
        }
      ]
    },
    {
      "cell_type": "code",
      "metadata": {
        "id": "c1z9EM7wiRbz"
      },
      "source": [
        "class ConvolutionalNetwork(nn.Sequential):\n",
        "    def __init__(self):\n",
        "        super(ConvolutionalNetwork, self).__init__()\n",
        "        self.layer1 = nn.Sequential(\n",
        "            nn.Conv2d(3, 48, 3, 1),\n",
        "            nn.ReLU(),\n",
        "            nn.MaxPool2d(2,2),\n",
        "            nn.Conv2d(48, 24, 3, 1),\n",
        "            nn.ReLU(),\n",
        "            nn.MaxPool2d(2,2),\n",
        "            nn.Conv2d(24, 48, 3, 1),\n",
        "            nn.ReLU(),\n",
        "            nn.MaxPool2d(2,2),\n",
        "            nn.Conv2d(48, 64, 3, 1),\n",
        "            nn.ReLU(),\n",
        "            nn.MaxPool2d(2,2),\n",
        "            nn.Conv2d(64, 64, 3, 1),\n",
        "            nn.ReLU(),\n",
        "            nn.MaxPool2d(2,2))\n",
        "         \n",
        "        self.fc = nn.Sequential(\n",
        "            nn.Linear(5*5*64, 240),\n",
        "            nn.ReLU(),\n",
        "            nn.Linear(240,10))\n",
        "        \n",
        "\n",
        "    def forward(self, X):\n",
        "        X = self.layer1(X)\n",
        "        \n",
        "        X = X.view(-1, 5*5*64)\n",
        "        \n",
        "        X = self.fc(X)\n",
        "        \n",
        "        return F.log_softmax(X, dim=1)"
      ],
      "execution_count": null,
      "outputs": []
    },
    {
      "cell_type": "code",
      "metadata": {
        "id": "WAP-pfmpiRb4",
        "colab": {
          "base_uri": "https://localhost:8080/"
        },
        "outputId": "dc338a08-731d-44ee-fd79-534d997ec231"
      },
      "source": [
        "torch.manual_seed(101)\n",
        "model = ConvolutionalNetwork()\n",
        "model"
      ],
      "execution_count": null,
      "outputs": [
        {
          "output_type": "execute_result",
          "data": {
            "text/plain": [
              "ConvolutionalNetwork(\n",
              "  (layer1): Sequential(\n",
              "    (0): Conv2d(3, 48, kernel_size=(3, 3), stride=(1, 1))\n",
              "    (1): ReLU()\n",
              "    (2): MaxPool2d(kernel_size=2, stride=2, padding=0, dilation=1, ceil_mode=False)\n",
              "    (3): Conv2d(48, 24, kernel_size=(3, 3), stride=(1, 1))\n",
              "    (4): ReLU()\n",
              "    (5): MaxPool2d(kernel_size=2, stride=2, padding=0, dilation=1, ceil_mode=False)\n",
              "    (6): Conv2d(24, 48, kernel_size=(3, 3), stride=(1, 1))\n",
              "    (7): ReLU()\n",
              "    (8): MaxPool2d(kernel_size=2, stride=2, padding=0, dilation=1, ceil_mode=False)\n",
              "    (9): Conv2d(48, 64, kernel_size=(3, 3), stride=(1, 1))\n",
              "    (10): ReLU()\n",
              "    (11): MaxPool2d(kernel_size=2, stride=2, padding=0, dilation=1, ceil_mode=False)\n",
              "    (12): Conv2d(64, 64, kernel_size=(3, 3), stride=(1, 1))\n",
              "    (13): ReLU()\n",
              "    (14): MaxPool2d(kernel_size=2, stride=2, padding=0, dilation=1, ceil_mode=False)\n",
              "  )\n",
              "  (fc): Sequential(\n",
              "    (0): Linear(in_features=1600, out_features=240, bias=True)\n",
              "    (1): ReLU()\n",
              "    (2): Linear(in_features=240, out_features=10, bias=True)\n",
              "  )\n",
              ")"
            ]
          },
          "metadata": {
            "tags": []
          },
          "execution_count": 10
        }
      ]
    },
    {
      "cell_type": "code",
      "metadata": {
        "id": "cIstlEKYiRcE"
      },
      "source": [
        "def count_parameters(model):\n",
        "    params = [p.numel() for p in model.parameters() if p.requires_grad]\n",
        "    for item in params:\n",
        "        print(f'{item:>6}')\n",
        "    print(f'______\\n{sum(params):>6}')"
      ],
      "execution_count": null,
      "outputs": []
    },
    {
      "cell_type": "code",
      "metadata": {
        "id": "0_IRjdEPiRcF",
        "colab": {
          "base_uri": "https://localhost:8080/"
        },
        "outputId": "c98f51bd-1a5b-4319-ca5a-6c2be334bad1"
      },
      "source": [
        "count_parameters(model)"
      ],
      "execution_count": null,
      "outputs": [
        {
          "output_type": "stream",
          "text": [
            "  1296\n",
            "    48\n",
            " 10368\n",
            "    24\n",
            " 10368\n",
            "    48\n",
            " 27648\n",
            "    64\n",
            " 36864\n",
            "    64\n",
            "384000\n",
            "   240\n",
            "  2400\n",
            "    10\n",
            "______\n",
            "473442\n"
          ],
          "name": "stdout"
        }
      ]
    },
    {
      "cell_type": "code",
      "metadata": {
        "id": "JqqcZCnUiRcI"
      },
      "source": [
        "criterion = nn.CrossEntropyLoss()\n",
        "optimizer = torch.optim.Adam(model.parameters(), lr=0.001)"
      ],
      "execution_count": null,
      "outputs": []
    },
    {
      "cell_type": "code",
      "metadata": {
        "id": "RvPfgfE0iRcJ",
        "colab": {
          "base_uri": "https://localhost:8080/"
        },
        "outputId": "56ca2b18-6317-4025-9c5f-6a9796fbdc9b"
      },
      "source": [
        "import time\n",
        "start_time = time.time()\n",
        "\n",
        "epochs = 10\n",
        "train_losses = []\n",
        "test_losses = []\n",
        "train_correct = []\n",
        "test_correct = []\n",
        "\n",
        "for i in range(epochs):\n",
        "    trn_corr = 0\n",
        "    tst_corr = 0\n",
        "    \n",
        "    # training batches\n",
        "    for b, (X_train, y_train) in enumerate(train_loader):\n",
        "        b+=1\n",
        "        \n",
        "        y_pred = model(X_train)\n",
        "        loss = criterion(y_pred, y_train)\n",
        " \n",
        "        # Tally number of correct predictions\n",
        "        predicted = torch.max(y_pred.data, 1)[1]\n",
        "        batch_corr = (predicted == y_train).sum()\n",
        "        trn_corr += batch_corr\n",
        "        \n",
        "        \n",
        "        optimizer.zero_grad()\n",
        "        loss.backward()\n",
        "        optimizer.step()\n",
        "        \n",
        "        # results\n",
        "        if b%100 == 0:\n",
        "            print(f'epoch: {i:2}  batch: {b:4} [{10*b:6}/4500]  loss: {loss.item():10.8f}  \\\n",
        "accuracy: {trn_corr.item()*100/(10*b):7.3f}%  Duration: {time.time() - start_time:.0f} seconds')\n",
        "        \n",
        "    train_losses.append(loss)\n",
        "    train_correct.append(trn_corr)\n",
        "        \n",
        "    # testing batches\n",
        "    with torch.no_grad():\n",
        "        for b, (X_test, y_test) in enumerate(test_loader):\n",
        "\n",
        "            \n",
        "            y_val = model(X_test)\n",
        "\n",
        "            # Tally number of correct predictions\n",
        "            predicted = torch.max(y_val.data, 1)[1] \n",
        "            tst_corr += (predicted == y_test).sum()\n",
        "            \n",
        "    loss = criterion(y_val, y_test)\n",
        "    test_losses.append(loss)\n",
        "    test_correct.append(tst_corr)\n",
        "        \n",
        "print(f'\\nDuration: {time.time() - start_time:.0f} seconds')"
      ],
      "execution_count": null,
      "outputs": [
        {
          "output_type": "stream",
          "text": [
            "epoch:  0  batch:  100 [  1000/4500]  loss: 2.29236102  accuracy:  11.000%  Duration: 62 seconds\n",
            "epoch:  0  batch:  200 [  2000/4500]  loss: 2.29631758  accuracy:  10.350%  Duration: 123 seconds\n",
            "epoch:  0  batch:  300 [  3000/4500]  loss: 2.30092573  accuracy:  10.267%  Duration: 257 seconds\n",
            "epoch:  0  batch:  400 [  4000/4500]  loss: 2.29921675  accuracy:   9.925%  Duration: 557 seconds\n",
            "epoch:  1  batch:  100 [  1000/4500]  loss: 2.30316496  accuracy:   9.200%  Duration: 974 seconds\n",
            "epoch:  1  batch:  200 [  2000/4500]  loss: 2.30921769  accuracy:   9.350%  Duration: 1035 seconds\n",
            "epoch:  1  batch:  300 [  3000/4500]  loss: 2.30340290  accuracy:   9.133%  Duration: 1096 seconds\n",
            "epoch:  1  batch:  400 [  4000/4500]  loss: 2.30257559  accuracy:   8.975%  Duration: 1158 seconds\n",
            "epoch:  2  batch:  100 [  1000/4500]  loss: 2.30705953  accuracy:  11.200%  Duration: 1273 seconds\n",
            "epoch:  2  batch:  200 [  2000/4500]  loss: 2.29939055  accuracy:  10.200%  Duration: 1334 seconds\n",
            "epoch:  2  batch:  300 [  3000/4500]  loss: 2.29972315  accuracy:   9.333%  Duration: 1396 seconds\n",
            "epoch:  2  batch:  400 [  4000/4500]  loss: 2.30051017  accuracy:   9.575%  Duration: 1458 seconds\n"
          ],
          "name": "stdout"
        }
      ]
    },
    {
      "cell_type": "code",
      "metadata": {
        "id": "fPPnRJB_iRcL"
      },
      "source": [
        "print(test_correct)\n",
        "print()\n",
        "print(f'Test accuracy: {test_correct[-1].item()*100/802:.3f}%')"
      ],
      "execution_count": null,
      "outputs": []
    },
    {
      "cell_type": "code",
      "metadata": {
        "id": "VRgUoXdviRcN"
      },
      "source": [
        "# Create a loader for the entire the test set\n",
        "test_load_all = DataLoader(test_data, batch_size=800, shuffle=False)\n",
        "\n",
        "with torch.no_grad():\n",
        "    correct = 0\n",
        "    for X_test, y_test in test_load_all:\n",
        "        y_val = model(X_test)\n",
        "        predicted = torch.max(y_val,1)[1]\n",
        "        correct += (predicted == y_test).sum()\n",
        "\n",
        "arr = confusion_matrix(y_test.view(-1), predicted.view(-1))\n",
        "df_cm = pd.DataFrame(arr, test_data.classes, test_data.classes)\n",
        "plt.figure(figsize = (9,6))\n",
        "sn.heatmap(df_cm, annot=True, fmt=\"d\", cmap='BuGn')\n",
        "plt.xlabel(\"prediction\")\n",
        "plt.ylabel(\"label (ground truth)\")\n",
        "plt.show();"
      ],
      "execution_count": null,
      "outputs": []
    },
    {
      "cell_type": "code",
      "metadata": {
        "id": "0F8ElczniRcR"
      },
      "source": [
        "plt.plot([t/45 for t in train_correct], label='training accuracy')\n",
        "plt.plot([t/8 for t in test_correct], label='validation accuracy')\n",
        "plt.title('Accuracy at the end of each epoch')\n",
        "plt.legend();"
      ],
      "execution_count": null,
      "outputs": []
    },
    {
      "cell_type": "code",
      "metadata": {
        "id": "4CHpp159iRcU"
      },
      "source": [
        "plt.plot(train_losses, label='training loss')\n",
        "plt.plot(test_losses, label='validation loss')\n",
        "plt.title('Loss at the end of each epoch')\n",
        "plt.legend();"
      ],
      "execution_count": null,
      "outputs": []
    },
    {
      "cell_type": "code",
      "metadata": {
        "id": "VQykioU5lYLU"
      },
      "source": [
        "torch.save(model.state_dict(), 'WORDS3.pt')"
      ],
      "execution_count": null,
      "outputs": []
    }
  ]
}