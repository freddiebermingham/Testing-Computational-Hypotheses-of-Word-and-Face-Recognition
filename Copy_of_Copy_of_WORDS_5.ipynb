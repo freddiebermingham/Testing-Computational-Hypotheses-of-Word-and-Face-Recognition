{
  "nbformat": 4,
  "nbformat_minor": 0,
  "metadata": {
    "kernelspec": {
      "display_name": "Python 3",
      "language": "python",
      "name": "python3"
    },
    "language_info": {
      "codemirror_mode": {
        "name": "ipython",
        "version": 3
      },
      "file_extension": ".py",
      "mimetype": "text/x-python",
      "name": "python",
      "nbconvert_exporter": "python",
      "pygments_lexer": "ipython3",
      "version": "3.8.3"
    },
    "colab": {
      "name": "Copy of Copy of WORDS-5.ipynb",
      "provenance": [],
      "collapsed_sections": [],
      "machine_shape": "hm",
      "include_colab_link": true
    }
  },
  "cells": [
    {
      "cell_type": "markdown",
      "metadata": {
        "id": "view-in-github",
        "colab_type": "text"
      },
      "source": [
        "<a href=\"https://colab.research.google.com/github/freddiebermingham/Testing-Computational-Hypotheses-of-Word-and-Face-Recognition/blob/main/Copy_of_Copy_of_WORDS_5.ipynb\" target=\"_parent\"><img src=\"https://colab.research.google.com/assets/colab-badge.svg\" alt=\"Open In Colab\"/></a>"
      ]
    },
    {
      "cell_type": "code",
      "metadata": {
        "id": "PzC09-tfiRaa",
        "colab": {
          "base_uri": "https://localhost:8080/"
        },
        "outputId": "951d9390-69af-4c3a-d13c-9f5188c62f7c"
      },
      "source": [
        "import torch\n",
        "import torch.nn as nn\n",
        "import torch.nn.functional as F\n",
        "from torch.utils.data import DataLoader\n",
        "from torchvision import datasets, transforms\n",
        "from torchvision.utils import make_grid\n",
        "import os\n",
        "\n",
        "import numpy as np\n",
        "import pandas as pd\n",
        "import seaborn as sn\n",
        "from sklearn.metrics import confusion_matrix\n",
        "import matplotlib.pyplot as plt\n",
        "%matplotlib inline\n",
        "\n",
        "from google.colab import drive\n",
        "drive.mount('/content/gdrive')"
      ],
      "execution_count": null,
      "outputs": [
        {
          "output_type": "stream",
          "text": [
            "Mounted at /content/gdrive\n"
          ],
          "name": "stdout"
        }
      ]
    },
    {
      "cell_type": "code",
      "metadata": {
        "id": "b4VfrFZ1iRbE"
      },
      "source": [
        "transform = transforms.ToTensor()"
      ],
      "execution_count": null,
      "outputs": []
    },
    {
      "cell_type": "code",
      "metadata": {
        "id": "FLofk_8DiRbU",
        "colab": {
          "base_uri": "https://localhost:8080/"
        },
        "outputId": "bac71631-7e19-4af7-dd42-7315dc4052dc"
      },
      "source": [
        "train_data = datasets.ImageFolder(('/content/gdrive/MyDrive/Words/train'), transform=transform)\n",
        "test_data = datasets.ImageFolder(('/content/gdrive/MyDrive/Words/test'), transform=transform)\n",
        "\n",
        "torch.manual_seed(42)\n",
        "train_loader = DataLoader(train_data, batch_size=10, shuffle=True)\n",
        "test_loader = DataLoader(test_data, batch_size=10, shuffle=True)\n",
        "\n",
        "class_names = train_data.classes\n",
        "labels = train_data.targets\n",
        "\n",
        "print(class_names)\n",
        "print(f'Training images available: {len(train_data)}')\n",
        "print(f'Testing images available:  {len(test_data)}')"
      ],
      "execution_count": null,
      "outputs": [
        {
          "output_type": "stream",
          "text": [
            "['cash ', 'cats', 'fact', 'foot', 'heat', 'holt', 'lots', 'safe', 'soft', 'tell']\n",
            "Training images available: 4500\n",
            "Testing images available:  800\n"
          ],
          "name": "stdout"
        }
      ]
    },
    {
      "cell_type": "code",
      "metadata": {
        "id": "kvTKL-kQiRbY",
        "colab": {
          "base_uri": "https://localhost:8080/"
        },
        "outputId": "884ec096-99c8-438c-b391-fc8c157e470f"
      },
      "source": [
        "train_data.classes"
      ],
      "execution_count": null,
      "outputs": [
        {
          "output_type": "execute_result",
          "data": {
            "text/plain": [
              "['cash ',\n",
              " 'cats',\n",
              " 'fact',\n",
              " 'foot',\n",
              " 'heat',\n",
              " 'holt',\n",
              " 'lots',\n",
              " 'safe',\n",
              " 'soft',\n",
              " 'tell']"
            ]
          },
          "metadata": {
            "tags": []
          },
          "execution_count": 4
        }
      ]
    },
    {
      "cell_type": "code",
      "metadata": {
        "id": "zyaPh41KiRba"
      },
      "source": [
        "test_classes = test_data.classes"
      ],
      "execution_count": null,
      "outputs": []
    },
    {
      "cell_type": "code",
      "metadata": {
        "id": "QZrAzNl9iRbb",
        "colab": {
          "base_uri": "https://localhost:8080/"
        },
        "outputId": "1812749d-887e-41df-b93f-45e870346b6e"
      },
      "source": [
        "test_classes"
      ],
      "execution_count": null,
      "outputs": [
        {
          "output_type": "execute_result",
          "data": {
            "text/plain": [
              "['cash ',\n",
              " 'cats ',\n",
              " 'fact ',\n",
              " 'foot ',\n",
              " 'heat ',\n",
              " 'holt ',\n",
              " 'lots',\n",
              " 'safe',\n",
              " 'soft ',\n",
              " 'tell ']"
            ]
          },
          "metadata": {
            "tags": []
          },
          "execution_count": 6
        }
      ]
    },
    {
      "cell_type": "code",
      "metadata": {
        "id": "pQtPlWueiRbd"
      },
      "source": [
        "torch.manual_seed(101)  \n",
        "\n",
        "train_loader = DataLoader(train_data, batch_size=10, shuffle=True)\n",
        "test_loader = DataLoader(test_data, batch_size=10, shuffle=False)"
      ],
      "execution_count": null,
      "outputs": []
    },
    {
      "cell_type": "code",
      "metadata": {
        "id": "MFuAnRvwiRbi",
        "colab": {
          "base_uri": "https://localhost:8080/",
          "height": 303
        },
        "outputId": "1fcb47c4-e7f0-4055-e33c-5f390d0f3bd9"
      },
      "source": [
        "np.set_printoptions(formatter=dict(int=lambda x: f'{x:5}'))\n",
        "\n",
        "for images,labels in train_loader: \n",
        "    break\n",
        "\n",
        "print('Label:', labels.numpy())\n",
        "print('Class: ', *np.array([class_names[i] for i in labels]))\n",
        "\n",
        "\n",
        "im = make_grid(images, nrow=5) \n",
        "plt.figure(figsize=(10,4))\n",
        "plt.imshow(np.transpose(im.numpy(), (1, 2, 0)));"
      ],
      "execution_count": null,
      "outputs": [
        {
          "output_type": "stream",
          "text": [
            "Label: [    8     2     4     6     7     3     7     2     7     7]\n",
            "Class:  soft fact heat lots safe foot safe fact safe safe\n"
          ],
          "name": "stdout"
        },
        {
          "output_type": "display_data",
          "data": {
            "image/png": "[encoded data removed]",
            "text/plain": [
              "<Figure size 720x288 with 1 Axes>"
            ]
          },
          "metadata": {
            "tags": [],
            "needs_background": "light"
          }
        }
      ]
    },
    {
      "cell_type": "code",
      "metadata": {
        "id": "c1z9EM7wiRbz"
      },
      "source": [
        "class ConvolutionalNetwork(nn.Sequential):\n",
        "    def __init__(self):\n",
        "        super(ConvolutionalNetwork, self).__init__()\n",
        "        self.layer1 = nn.Sequential(\n",
        "            nn.Conv2d(3, 48, 3, 1),\n",
        "            nn.ReLU(),\n",
        "            nn.MaxPool2d(2,2),\n",
        "            nn.Conv2d(48, 24, 3, 1),\n",
        "            nn.ReLU(),\n",
        "            nn.MaxPool2d(2,2),\n",
        "            nn.Conv2d(24, 48, 3, 1),\n",
        "            nn.ReLU(),\n",
        "            nn.MaxPool2d(2,2),\n",
        "            nn.Conv2d(48, 64, 3, 1),\n",
        "            nn.ReLU(),\n",
        "            nn.MaxPool2d(2,2),\n",
        "            nn.Conv2d(64, 64, 3, 1),\n",
        "            nn.ReLU(),\n",
        "            nn.MaxPool2d(2,2))\n",
        "         \n",
        "        self.fc = nn.Sequential(\n",
        "            nn.Linear(5*5*64, 240),\n",
        "            nn.ReLU(),\n",
        "            nn.Linear(240,10))\n",
        "        \n",
        "\n",
        "    def forward(self, X):\n",
        "        X = self.layer1(X)\n",
        "        \n",
        "        X = X.view(-1, 5*5*64)\n",
        "        \n",
        "        X = self.fc(X)\n",
        "        \n",
        "        return F.log_softmax(X, dim=1)"
      ],
      "execution_count": null,
      "outputs": []
    },
    {
      "cell_type": "code",
      "metadata": {
        "id": "WAP-pfmpiRb4",
        "colab": {
          "base_uri": "https://localhost:8080/"
        },
        "outputId": "5befa0b3-69f7-43d5-c094-42730c1ab7f9"
      },
      "source": [
        "torch.manual_seed(101)\n",
        "model = ConvolutionalNetwork()\n",
        "model"
      ],
      "execution_count": null,
      "outputs": [
        {
          "output_type": "execute_result",
          "data": {
            "text/plain": [
              "ConvolutionalNetwork(\n",
              "  (layer1): Sequential(\n",
              "    (0): Conv2d(3, 48, kernel_size=(3, 3), stride=(1, 1))\n",
              "    (1): ReLU()\n",
              "    (2): MaxPool2d(kernel_size=2, stride=2, padding=0, dilation=1, ceil_mode=False)\n",
              "    (3): Conv2d(48, 24, kernel_size=(3, 3), stride=(1, 1))\n",
              "    (4): ReLU()\n",
              "    (5): MaxPool2d(kernel_size=2, stride=2, padding=0, dilation=1, ceil_mode=False)\n",
              "    (6): Conv2d(24, 48, kernel_size=(3, 3), stride=(1, 1))\n",
              "    (7): ReLU()\n",
              "    (8): MaxPool2d(kernel_size=2, stride=2, padding=0, dilation=1, ceil_mode=False)\n",
              "    (9): Conv2d(48, 64, kernel_size=(3, 3), stride=(1, 1))\n",
              "    (10): ReLU()\n",
              "    (11): MaxPool2d(kernel_size=2, stride=2, padding=0, dilation=1, ceil_mode=False)\n",
              "    (12): Conv2d(64, 64, kernel_size=(3, 3), stride=(1, 1))\n",
              "    (13): ReLU()\n",
              "    (14): MaxPool2d(kernel_size=2, stride=2, padding=0, dilation=1, ceil_mode=False)\n",
              "  )\n",
              "  (fc): Sequential(\n",
              "    (0): Linear(in_features=1600, out_features=240, bias=True)\n",
              "    (1): ReLU()\n",
              "    (2): Linear(in_features=240, out_features=10, bias=True)\n",
              "  )\n",
              ")"
            ]
          },
          "metadata": {
            "tags": []
          },
          "execution_count": 10
        }
      ]
    },
    {
      "cell_type": "code",
      "metadata": {
        "id": "cIstlEKYiRcE"
      },
      "source": [
        "def count_parameters(model):\n",
        "    params = [p.numel() for p in model.parameters() if p.requires_grad]\n",
        "    for item in params:\n",
        "        print(f'{item:>6}')\n",
        "    print(f'______\\n{sum(params):>6}')"
      ],
      "execution_count": null,
      "outputs": []
    },
    {
      "cell_type": "code",
      "metadata": {
        "id": "0_IRjdEPiRcF",
        "colab": {
          "base_uri": "https://localhost:8080/"
        },
        "outputId": "1db508da-53dc-4563-ed9e-67e7a6c5a578"
      },
      "source": [
        "count_parameters(model)"
      ],
      "execution_count": null,
      "outputs": [
        {
          "output_type": "stream",
          "text": [
            "  1296\n",
            "    48\n",
            " 10368\n",
            "    24\n",
            " 10368\n",
            "    48\n",
            " 27648\n",
            "    64\n",
            " 36864\n",
            "    64\n",
            "384000\n",
            "   240\n",
            "  2400\n",
            "    10\n",
            "______\n",
            "473442\n"
          ],
          "name": "stdout"
        }
      ]
    },
    {
      "cell_type": "code",
      "metadata": {
        "id": "JqqcZCnUiRcI"
      },
      "source": [
        "criterion = nn.CrossEntropyLoss()\n",
        "optimizer = torch.optim.Adam(model.parameters(), lr=0.001)"
      ],
      "execution_count": null,
      "outputs": []
    },
    {
      "cell_type": "code",
      "metadata": {
        "id": "RvPfgfE0iRcJ",
        "colab": {
          "base_uri": "https://localhost:8080/"
        },
        "outputId": "7dff6646-136a-4442-c2f8-aaf9cb9c192b"
      },
      "source": [
        "import time\n",
        "start_time = time.time()\n",
        "\n",
        "epochs = 10\n",
        "train_losses = []\n",
        "test_losses = []\n",
        "train_correct = []\n",
        "test_correct = []\n",
        "\n",
        "for i in range(epochs):\n",
        "    trn_corr = 0\n",
        "    tst_corr = 0\n",
        "    \n",
        "    # training batches\n",
        "    for b, (X_train, y_train) in enumerate(train_loader):\n",
        "        b+=1\n",
        "        \n",
        "        y_pred = model(X_train)\n",
        "        loss = criterion(y_pred, y_train)\n",
        " \n",
        "        # Tally number of correct predictions\n",
        "        predicted = torch.max(y_pred.data, 1)[1]\n",
        "        batch_corr = (predicted == y_train).sum()\n",
        "        trn_corr += batch_corr\n",
        "        \n",
        "        \n",
        "        optimizer.zero_grad()\n",
        "        loss.backward()\n",
        "        optimizer.step()\n",
        "        \n",
        "        # results\n",
        "        if b%100 == 0:\n",
        "            print(f'epoch: {i:2}  batch: {b:4} [{10*b:6}/4500]  loss: {loss.item():10.8f}  \\\n",
        "accuracy: {trn_corr.item()*100/(10*b):7.3f}%  Duration: {time.time() - start_time:.0f} seconds')\n",
        "        \n",
        "    train_losses.append(loss)\n",
        "    train_correct.append(trn_corr)\n",
        "        \n",
        "    # testing batches\n",
        "    with torch.no_grad():\n",
        "        for b, (X_test, y_test) in enumerate(test_loader):\n",
        "\n",
        "            \n",
        "            y_val = model(X_test)\n",
        "\n",
        "            # Tally number of correct predictions\n",
        "            predicted = torch.max(y_val.data, 1)[1] \n",
        "            tst_corr += (predicted == y_test).sum()\n",
        "            \n",
        "    loss = criterion(y_val, y_test)\n",
        "    test_losses.append(loss)\n",
        "    test_correct.append(tst_corr)\n",
        "        \n",
        "print(f'\\nDuration: {time.time() - start_time:.0f} seconds')"
      ],
      "execution_count": null,
      "outputs": [
        {
          "output_type": "stream",
          "text": [
            "epoch:  0  batch:  100 [  1000/4500]  loss: 2.09133744  accuracy:  14.300%  Duration: 293 seconds\n",
            "epoch:  0  batch:  200 [  2000/4500]  loss: 0.02742406  accuracy:  45.600%  Duration: 577 seconds\n",
            "epoch:  0  batch:  300 [  3000/4500]  loss: 0.00409423  accuracy:  61.733%  Duration: 862 seconds\n",
            "epoch:  0  batch:  400 [  4000/4500]  loss: 0.03592987  accuracy:  70.325%  Duration: 1149 seconds\n",
            "epoch:  1  batch:  100 [  1000/4500]  loss: 0.00038872  accuracy:  98.400%  Duration: 1543 seconds\n",
            "epoch:  1  batch:  200 [  2000/4500]  loss: 0.05224187  accuracy:  98.550%  Duration: 1577 seconds\n",
            "epoch:  1  batch:  300 [  3000/4500]  loss: 0.00683479  accuracy:  98.467%  Duration: 1612 seconds\n",
            "epoch:  1  batch:  400 [  4000/4500]  loss: 0.85842609  accuracy:  98.350%  Duration: 1647 seconds\n",
            "epoch:  2  batch:  100 [  1000/4500]  loss: 0.45870534  accuracy:  99.400%  Duration: 1712 seconds\n",
            "epoch:  2  batch:  200 [  2000/4500]  loss: 0.00054773  accuracy:  98.800%  Duration: 1747 seconds\n",
            "epoch:  2  batch:  300 [  3000/4500]  loss: 0.00036154  accuracy:  99.033%  Duration: 1782 seconds\n",
            "epoch:  2  batch:  400 [  4000/4500]  loss: 0.18141165  accuracy:  99.050%  Duration: 1818 seconds\n",
            "epoch:  3  batch:  100 [  1000/4500]  loss: 0.00020919  accuracy:  99.800%  Duration: 1883 seconds\n",
            "epoch:  3  batch:  200 [  2000/4500]  loss: 0.00024753  accuracy:  99.650%  Duration: 1918 seconds\n",
            "epoch:  3  batch:  300 [  3000/4500]  loss: 0.00664412  accuracy:  99.533%  Duration: 1953 seconds\n",
            "epoch:  3  batch:  400 [  4000/4500]  loss: 0.07847673  accuracy:  99.525%  Duration: 1989 seconds\n",
            "epoch:  4  batch:  100 [  1000/4500]  loss: 0.00002093  accuracy: 100.000%  Duration: 2054 seconds\n",
            "epoch:  4  batch:  200 [  2000/4500]  loss: 0.00000836  accuracy:  99.950%  Duration: 2089 seconds\n",
            "epoch:  4  batch:  300 [  3000/4500]  loss: 0.21405375  accuracy:  99.567%  Duration: 2124 seconds\n",
            "epoch:  4  batch:  400 [  4000/4500]  loss: 0.00197367  accuracy:  99.475%  Duration: 2159 seconds\n",
            "epoch:  5  batch:  100 [  1000/4500]  loss: 0.00071242  accuracy: 100.000%  Duration: 2225 seconds\n",
            "epoch:  5  batch:  200 [  2000/4500]  loss: 0.00078312  accuracy:  99.950%  Duration: 2259 seconds\n",
            "epoch:  5  batch:  300 [  3000/4500]  loss: 0.00051205  accuracy:  99.833%  Duration: 2294 seconds\n",
            "epoch:  5  batch:  400 [  4000/4500]  loss: 0.00000995  accuracy:  99.825%  Duration: 2330 seconds\n",
            "epoch:  6  batch:  100 [  1000/4500]  loss: 0.00000452  accuracy: 100.000%  Duration: 2395 seconds\n",
            "epoch:  6  batch:  200 [  2000/4500]  loss: 0.00167967  accuracy:  99.300%  Duration: 2430 seconds\n",
            "epoch:  6  batch:  300 [  3000/4500]  loss: 0.00075836  accuracy:  99.067%  Duration: 2465 seconds\n",
            "epoch:  6  batch:  400 [  4000/4500]  loss: 0.00001019  accuracy:  99.200%  Duration: 2500 seconds\n",
            "epoch:  7  batch:  100 [  1000/4500]  loss: 0.00000478  accuracy:  99.200%  Duration: 2565 seconds\n",
            "epoch:  7  batch:  200 [  2000/4500]  loss: 0.00000411  accuracy:  99.600%  Duration: 2600 seconds\n",
            "epoch:  7  batch:  300 [  3000/4500]  loss: 0.00039526  accuracy:  99.500%  Duration: 2635 seconds\n",
            "epoch:  7  batch:  400 [  4000/4500]  loss: 0.00001689  accuracy:  99.575%  Duration: 2670 seconds\n",
            "epoch:  8  batch:  100 [  1000/4500]  loss: 0.00002122  accuracy: 100.000%  Duration: 2735 seconds\n",
            "epoch:  8  batch:  200 [  2000/4500]  loss: 0.00000002  accuracy: 100.000%  Duration: 2770 seconds\n",
            "epoch:  8  batch:  300 [  3000/4500]  loss: 0.00037123  accuracy: 100.000%  Duration: 2805 seconds\n",
            "epoch:  8  batch:  400 [  4000/4500]  loss: 0.00000015  accuracy: 100.000%  Duration: 2840 seconds\n",
            "epoch:  9  batch:  100 [  1000/4500]  loss: 0.00000029  accuracy: 100.000%  Duration: 2906 seconds\n",
            "epoch:  9  batch:  200 [  2000/4500]  loss: 0.00000000  accuracy: 100.000%  Duration: 2941 seconds\n",
            "epoch:  9  batch:  300 [  3000/4500]  loss: 0.00004498  accuracy: 100.000%  Duration: 2976 seconds\n",
            "epoch:  9  batch:  400 [  4000/4500]  loss: 0.00001068  accuracy: 100.000%  Duration: 3011 seconds\n",
            "\n",
            "Duration: 3041 seconds\n"
          ],
          "name": "stdout"
        }
      ]
    },
    {
      "cell_type": "code",
      "metadata": {
        "id": "fPPnRJB_iRcL",
        "colab": {
          "base_uri": "https://localhost:8080/"
        },
        "outputId": "8c0fd87e-e381-41c9-a217-691f39279b77"
      },
      "source": [
        "print(test_correct)\n",
        "print()\n",
        "print(f'Test accuracy: {test_correct[-1].item()*100/802:.3f}%')"
      ],
      "execution_count": null,
      "outputs": [
        {
          "output_type": "stream",
          "text": [
            "[tensor(785), tensor(787), tensor(792), tensor(798), tensor(798), tensor(798), tensor(795), tensor(800), tensor(800), tensor(800)]\n",
            "\n",
            "Test accuracy: 99.751%\n"
          ],
          "name": "stdout"
        }
      ]
    },
    {
      "cell_type": "code",
      "metadata": {
        "id": "VRgUoXdviRcN",
        "colab": {
          "base_uri": "https://localhost:8080/",
          "height": 392
        },
        "outputId": "65dfb0ba-5474-402e-c31d-08e807ab7f0e"
      },
      "source": [
        "# Create a loader for the entire the test set\n",
        "test_load_all = DataLoader(test_data, batch_size=800, shuffle=False)\n",
        "\n",
        "with torch.no_grad():\n",
        "    correct = 0\n",
        "    for X_test, y_test in test_load_all:\n",
        "        y_val = model(X_test)\n",
        "        predicted = torch.max(y_val,1)[1]\n",
        "        correct += (predicted == y_test).sum()\n",
        "\n",
        "arr = confusion_matrix(y_test.view(-1), predicted.view(-1))\n",
        "df_cm = pd.DataFrame(arr, test_data.classes, test_data.classes)\n",
        "plt.figure(figsize = (9,6))\n",
        "sn.heatmap(df_cm, annot=True, fmt=\"d\", cmap='BuGn')\n",
        "plt.xlabel(\"prediction\")\n",
        "plt.ylabel(\"label (ground truth)\")\n",
        "plt.show();"
      ],
      "execution_count": null,
      "outputs": [
        {
          "output_type": "display_data",
          "data": {
            "image/png": "[encoded data removed]",
            "text/plain": [
              "<Figure size 648x432 with 2 Axes>"
            ]
          },
          "metadata": {
            "tags": [],
            "needs_background": "light"
          }
        }
      ]
    },
    {
      "cell_type": "code",
      "metadata": {
        "id": "0F8ElczniRcR"
      },
      "source": [
        "plt.plot([t/45 for t in train_correct], label='training accuracy')\n",
        "plt.plot([t/8 for t in test_correct], label='validation accuracy')\n",
        "plt.title('Accuracy at the end of each epoch')\n",
        "plt.legend();"
      ],
      "execution_count": null,
      "outputs": []
    },
    {
      "cell_type": "code",
      "metadata": {
        "id": "4CHpp159iRcU"
      },
      "source": [
        "plt.plot(train_losses, label='training loss')\n",
        "plt.plot(test_losses, label='validation loss')\n",
        "plt.title('Loss at the end of each epoch')\n",
        "plt.legend();"
      ],
      "execution_count": null,
      "outputs": []
    },
    {
      "cell_type": "code",
      "metadata": {
        "id": "VQykioU5lYLU"
      },
      "source": [
        "torch.save(model.state_dict(), 'WORDS4.pt')"
      ],
      "execution_count": null,
      "outputs": []
    },
    {
      "cell_type": "code",
      "metadata": {
        "id": "8b97QDEgWx1T"
      },
      "source": [
        ""
      ],
      "execution_count": null,
      "outputs": []
    }
  ]
}